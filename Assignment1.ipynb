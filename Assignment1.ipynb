{
  "nbformat": 4,
  "nbformat_minor": 0,
  "metadata": {
    "colab": {
      "provenance": [],
      "authorship_tag": "ABX9TyPh4d0UY7zqys0Kx6v3WQ4h",
      "include_colab_link": true
    },
    "kernelspec": {
      "name": "python3",
      "display_name": "Python 3"
    },
    "language_info": {
      "name": "python"
    }
  },
  "cells": [
    {
      "cell_type": "markdown",
      "metadata": {
        "id": "view-in-github",
        "colab_type": "text"
      },
      "source": [
        "<a href=\"https://colab.research.google.com/github/OwenHimmel/Programming/blob/main/Assignment1.ipynb\" target=\"_parent\"><img src=\"https://colab.research.google.com/assets/colab-badge.svg\" alt=\"Open In Colab\"/></a>"
      ]
    },
    {
      "cell_type": "code",
      "execution_count": 7,
      "metadata": {
        "colab": {
          "base_uri": "https://localhost:8080/"
        },
        "id": "r8wrWh72156U",
        "outputId": "f4dd9afa-3b2b-4b44-e9b0-5597e143a77b"
      },
      "outputs": [
        {
          "output_type": "stream",
          "name": "stdout",
          "text": [
            "Sample Mean: -0.42205093921264875 \n",
            "\n"
          ]
        }
      ],
      "source": [
        "import numpy as np\n",
        "import math as math\n",
        "\n",
        "np.random.seed(100) # Set the seed for the random number generator\n",
        "rho, sigma_x, sigma_y = -.4, 3, 2 # Variance-Covariance Parameters\n",
        "\n",
        "\n",
        "vcv = np.array([[sigma_x**2, rho*sigma_x*sigma_y],\n",
        "                [rho*sigma_x*sigma_y,sigma_y**2]]) # VCV Matrix\n",
        "\n",
        "mu = np.array([-1,2]) # Population averages\n",
        "sample = np.random.multivariate_normal(mu,vcv,200) # Multivariate normal draws\n",
        "x = sample[:,0]\n",
        "y = sample[:,1]\n",
        "\n",
        "def get_mean(x):\n",
        "   mean = np.sum(x)/len(x)\n",
        "   return mean\n",
        "\n",
        "def get_sd(x):\n",
        "  sd = np.sqrt(np.sum((x-get_mean(x))**2)/(len(x)-1))\n",
        "  return sd\n",
        "\n",
        "def get_z_score(x):\n",
        "  z_score = (x-get_mean(x))/get_sd(x)\n",
        "  return z_score\n",
        "\n",
        "def get_sample_cov(x,y):\n",
        "  sample_cov = np.sum((x-get_mean(x))*(y-get_mean(y)))/(len(x)-1)\n",
        "  return sample_cov\n",
        "\n",
        "def get_sample_corr(x,y):\n",
        "  sample_corr = get_sample_cov(x,y)/(get_sd(x)*get_sd(y))\n",
        "  return sample_corr\n"
      ]
    }
  ]
}